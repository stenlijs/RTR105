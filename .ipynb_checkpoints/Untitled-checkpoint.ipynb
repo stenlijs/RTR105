{
 "cells": [
  {
   "cell_type": "code",
   "execution_count": 2,
   "metadata": {},
   "outputs": [],
   "source": [
    "a = 10"
   ]
  },
  {
   "cell_type": "code",
   "execution_count": 3,
   "metadata": {},
   "outputs": [
    {
     "data": {
      "text/plain": [
       "10"
      ]
     },
     "execution_count": 3,
     "metadata": {},
     "output_type": "execute_result"
    }
   ],
   "source": [
    "a"
   ]
  },
  {
   "cell_type": "code",
   "execution_count": 10,
   "metadata": {},
   "outputs": [
    {
     "name": "stdout",
     "output_type": "stream",
     "text": [
      "14.5\n"
     ]
    },
    {
     "data": {
      "image/png": "[encoded data removed]",
      "text/plain": [
       "<matplotlib.figure.Figure at 0x7f82e0d0d278>"
      ]
     },
     "metadata": {},
     "output_type": "display_data"
    }
   ],
   "source": [
    "import sys\n",
    "sys.path.append('/usr/local/anaconda3/lib/python3.6/site-packages')\n",
    "\n",
    "# N vienmieriigi sadaliiti gadiijuma skaitlji\n",
    "# N uniformly distributed random numbers\n",
    "\n",
    "from numpy import random\n",
    "#print(random.__doc__)\n",
    "#print(random.uniform.__doc__)\n",
    "\n",
    "N = 100\n",
    "a = 0\n",
    "b = 5\n",
    "\n",
    "#pseido-gadiijuma skaitlju generatora grauds\n",
    "#random.seed(1)\n",
    "\n",
    "x = random.uniform(a,b,N)\n",
    "#x = random.normal(a,b,N)\n",
    "\n",
    "'''\n",
    "k = [0, 0, 0, 0, 0]\n",
    "for i in range(N):\n",
    "    if x[i] < 1:\n",
    "        k[0] = k[0] + 1\n",
    "    elif x[i] < 2:\n",
    "        k[1] = k[1] + 1\n",
    "    elif x[i] < 3:\n",
    "        k[2] = k[2] + 1\n",
    "    elif x[i] < 4:\n",
    "        k[3] = k[3] + 1\n",
    "    else:\n",
    "        k[4] = k[4] + 1\n",
    "print(k)\n",
    "'''\n",
    "\n",
    "y = random.uniform(a,b,N)\n",
    "\n",
    "from matplotlib import pyplot as plt\n",
    "plt.grid()\n",
    "plt.xlabel('x')\n",
    "plt.ylabel('y')\n",
    "plt.title('Funkcija un taas integraalis (laukums starp funkciju un x ass)')\n",
    "#nav jeegas ziimeet shaadi plt.plot(x,y)\n",
    "#plt.plot(x,y,'ko')\n",
    "N1 = 0\n",
    "for i in range(N):\n",
    "    if y[i] < x[i]:\n",
    "        plt.plot(x[i],y[i],'go')\n",
    "        N1 = N1 + 1\n",
    "    else:\n",
    "        plt.plot(x[i],y[i],'ro')\n",
    "\n",
    "S_zinaamais = (b-a) * (b-a)\n",
    "S_nezinaamais = 1. * S_zinaamais * N1 / N\n",
    "print(S_nezinaamais)\n",
    "plt.show()"
   ]
  },
  {
   "cell_type": "code",
   "execution_count": 6,
   "metadata": {},
   "outputs": [],
   "source": []
  }
 ],
 "metadata": {
  "kernelspec": {
   "display_name": "Python 3",
   "language": "python",
   "name": "python3"
  },
  "language_info": {
   "codemirror_mode": {
    "name": "ipython",
    "version": 3
   },
   "file_extension": ".py",
   "mimetype": "text/x-python",
   "name": "python",
   "nbconvert_exporter": "python",
   "pygments_lexer": "ipython3",
   "version": "3.6.4"
  }
 },
 "nbformat": 4,
 "nbformat_minor": 2
}
